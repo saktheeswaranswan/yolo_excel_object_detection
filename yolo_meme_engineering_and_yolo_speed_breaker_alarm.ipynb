{
  "nbformat": 4,
  "nbformat_minor": 0,
  "metadata": {
    "colab": {
      "provenance": [],
      "authorship_tag": "ABX9TyPJMvPrlOklvzMirdAqonUE",
      "include_colab_link": true
    },
    "kernelspec": {
      "name": "python3",
      "display_name": "Python 3"
    },
    "language_info": {
      "name": "python"
    }
  },
  "cells": [
    {
      "cell_type": "markdown",
      "metadata": {
        "id": "view-in-github",
        "colab_type": "text"
      },
      "source": [
        "<a href=\"https://colab.research.google.com/github/saktheeswaranswan/yolo_excel_object_detection/blob/main/yolo_meme_engineering_and_yolo_speed_breaker_alarm.ipynb\" target=\"_parent\"><img src=\"https://colab.research.google.com/assets/colab-badge.svg\" alt=\"Open In Colab\"/></a>"
      ]
    },
    {
      "cell_type": "code",
      "execution_count": null,
      "metadata": {
        "id": "zFjbHTutrhRj"
      },
      "outputs": [],
      "source": [
        "import cv2\n",
        "import numpy as np\n",
        "import pygame\n",
        "import time\n",
        "\n",
        "# Load YOLO model\n",
        "net = cv2.dnn.readNet(\"yolov3-tiny.weights\", \"yolov3-tiny.cfg\")\n",
        "classes = ['person']\n",
        "with open(\"coco.names\", \"r\") as f:\n",
        "    classes = [line.strip() for line in f.readlines()]\n",
        "layer_names = net.getLayerNames()\n",
        "output_layers = [layer_names[i[0] - 1] for i in net.getUnconnectedOutLayers()]\n",
        "colors = np.random.uniform(0, 255, size=(len(classes), 3))\n",
        "\n",
        "# Initialize camera and Pygame mixer\n",
        "cap = cv2.VideoCapture(0)\n",
        "pygame.mixer.init()\n",
        "\n",
        "# Function to play MP3 file for 30 milliseconds\n",
        "def play_mp3(file):\n",
        "    pygame.mixer.music.load(file)\n",
        "    pygame.mixer.music.play()\n",
        "    time.sleep(5)\n",
        "    pygame.mixer.music.stop()\n",
        "\n",
        "while True:\n",
        "    # Capture video frame\n",
        "    ret, img = cap.read()\n",
        "    height, width, channels = img.shape\n",
        "\n",
        "    # Detect objects\n",
        "    blob = cv2.dnn.blobFromImage(img, 0.00392, (416, 416), (0, 0, 0), True, crop=False)\n",
        "    net.setInput(blob)\n",
        "    outs = net.forward(output_layers)\n",
        "\n",
        "    # Display detections and play MP3 file for each class\n",
        "    class_detected = {}\n",
        "    for out in outs:\n",
        "        for detection in out:\n",
        "            scores = detection[5:]\n",
        "            class_id = np.argmax(scores)\n",
        "            confidence = scores[class_id]\n",
        "            if confidence > 0.5:\n",
        "                center_x = int(detection[0] * width)\n",
        "                center_y = int(detection[1] * height)\n",
        "                w = int(detection[2] * width)\n",
        "                h = int(detection[3] * height)\n",
        "                x = int(center_x - w / 2)\n",
        "                y = int(center_y - h / 2)\n",
        "\n",
        "                if classes[class_id] not in class_detected:\n",
        "                    class_detected[classes[class_id]] = True\n",
        "                    play_mp3(f\"{class_id + 1}.mp3\")\n",
        "\n",
        "                color = colors[class_id]\n",
        "                cv2.rectangle(img, (x, y), (x + w, y + h), color, 2)\n",
        "                cv2.putText(img, classes[class_id], (x, y - 10), cv2.FONT_HERSHEY_SIMPLEX, 0.5, color, 2)\n",
        "\n",
        "    cv2.imshow(\"Image\", img)\n",
        "    key = cv2.waitKey(1)\n",
        "    if key == 27:\n",
        "        break\n",
        "\n",
        "cv2.destroyAllWindows()\n",
        "pygame.mixer.quit()\n"
      ]
    },
    {
      "cell_type": "code",
      "source": [
        "#for each class object detection corresponds each one mp3 file\n",
        "#and select number of classes and put all mp3 file in one folde"
      ],
      "metadata": {
        "id": "5DwGPN-Iro4f"
      },
      "execution_count": null,
      "outputs": []
    }
  ]
}